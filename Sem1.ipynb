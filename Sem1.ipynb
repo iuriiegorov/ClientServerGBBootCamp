{
  "nbformat": 4,
  "nbformat_minor": 0,
  "metadata": {
    "colab": {
      "provenance": [],
      "authorship_tag": "ABX9TyP7rHkIlGNEqhdHtvJs5JGf",
      "include_colab_link": true
    },
    "kernelspec": {
      "name": "python3",
      "display_name": "Python 3"
    },
    "language_info": {
      "name": "python"
    }
  },
  "cells": [
    {
      "cell_type": "markdown",
      "metadata": {
        "id": "view-in-github",
        "colab_type": "text"
      },
      "source": [
        "<a href=\"https://colab.research.google.com/github/iuriiegorov/ClientServerGBBootCamp/blob/main/Sem1.ipynb\" target=\"_parent\"><img src=\"https://colab.research.google.com/assets/colab-badge.svg\" alt=\"Open In Colab\"/></a>"
      ]
    },
    {
      "cell_type": "markdown",
      "source": [
        "2. На складе лежат разные фрукты в разном количестве.\n",
        "Нужно написать функцию на Python, которая на вход принимает любое количество\n",
        "названий фруктов и их количество,\n",
        "а возвращает общее количество фруктов на складе"
      ],
      "metadata": {
        "id": "b5vWwqjtkQAz"
      }
    },
    {
      "cell_type": "code",
      "source": [
        "def count_fruits(**fruits):\n",
        "    total = 0\n",
        "    for fruit, quantity in fruits.items():\n",
        "        total += quantity\n",
        "    return total"
      ],
      "metadata": {
        "id": "quYfTKz5kZ11"
      },
      "execution_count": 1,
      "outputs": []
    },
    {
      "cell_type": "code",
      "source": [
        "count_fruits(apples=10, bananas=5, oranges=15)"
      ],
      "metadata": {
        "colab": {
          "base_uri": "https://localhost:8080/"
        },
        "id": "bD_iSVR-kppR",
        "outputId": "d81039fb-acdd-4a44-d262-35529383958c"
      },
      "execution_count": 2,
      "outputs": [
        {
          "output_type": "execute_result",
          "data": {
            "text/plain": [
              "30"
            ]
          },
          "metadata": {},
          "execution_count": 2
        }
      ]
    },
    {
      "cell_type": "markdown",
      "source": [
        "3. Дан список с затратами на рекламу. Но в данных есть ошибки, \n",
        "некоторые затраты имеют отрицательную величину. \n",
        "Удалите такие значения из списка и посчитайте суммарные затраты\n",
        "[100, 125, -90, 345, 655, -1, 0, 200]\n",
        "Используйте list comprehensions"
      ],
      "metadata": {
        "id": "aHFQnfVnlVtY"
      }
    },
    {
      "cell_type": "code",
      "source": [
        "expenses = [100, 125, -90, 345, 655, -1, 0, 200]\n",
        "expenses = [expense for expense in expenses if expense >= 0]\n",
        "total_expenses = sum(expenses)"
      ],
      "metadata": {
        "id": "4jr0XKG0lbvX"
      },
      "execution_count": 3,
      "outputs": []
    },
    {
      "cell_type": "code",
      "source": [
        "total_expenses"
      ],
      "metadata": {
        "colab": {
          "base_uri": "https://localhost:8080/"
        },
        "id": "8-DpR4UGlkZg",
        "outputId": "457a5195-9b4b-4976-80bc-2cdc39a9f4e5"
      },
      "execution_count": 4,
      "outputs": [
        {
          "output_type": "execute_result",
          "data": {
            "text/plain": [
              "1425"
            ]
          },
          "metadata": {},
          "execution_count": 4
        }
      ]
    },
    {
      "cell_type": "markdown",
      "source": [
        "4.1 Даны два списка.\n",
        "Дата покупки\n",
        "['2021-09-14', '2021-12-15', '2021-09-08', '2021-12-05', '2021-10-09', '2021-09-30', '2021-12-22', '2021-11-29', '2021-12-24', '2021-11-26', '2021-10-27', '2021-12-18', '2021-11-09', '2021-11-23', '2021-09-27', '2021-10-02', '2021-12-27', '2021-09-20', '2021-12-13', '2021-11-01', '2021-11-09', '2021-12-06', '2021-12-08', '2021-10-09', '2021-10-31', '2021-09-30', '2021-11-09', '2021-12-13', '2021-10-26', '2021-12-09']\n",
        "Суммы покупок по датам\n",
        "[1270, 8413, 9028, 3703, 5739, 4095, 295, 4944, 5723, 3701, 4471, 651, 7037, 4274, 6275, 4988, 6930, 2971, 6592, 2004, 2822, 519, 3406, 2732, 5015, 2008, 316, 6333, 5700, 2887]\n",
        "Найдите, какая выручка у компании в ноябре\n",
        "Используйте list comprehensions"
      ],
      "metadata": {
        "id": "I_9hUdlTmHAo"
      }
    },
    {
      "cell_type": "code",
      "source": [
        "dates = ['2021-09-14', '2021-12-15', '2021-09-08', '2021-12-05', '2021-10-09', '2021-09-30', '2021-12-22', '2021-11-29', '2021-12-24', '2021-11-26', '2021-10-27', '2021-12-18', '2021-11-09', '2021-11-23', '2021-09-27', '2021-10-02', '2021-12-27', '2021-09-20', '2021-12-13', '2021-11-01', '2021-11-09', '2021-12-06', '2021-12-08', '2021-10-09', '2021-10-31', '2021-09-30', '2021-11-09', '2021-12-13', '2021-10-26', '2021-12-09']"
      ],
      "metadata": {
        "id": "9hccumB7mOC5"
      },
      "execution_count": 5,
      "outputs": []
    },
    {
      "cell_type": "code",
      "source": [
        "sales = [1270, 8413, 9028, 3703, 5739, 4095, 295, 4944, 5723, 3701, 4471, 651, 7037, 4274, 6275, 4988, 6930, 2971, 6592, 2004, 2822, 519, 3406, 2732, 5015, 2008, 316, 6333, 5700, 2887]\n"
      ],
      "metadata": {
        "id": "1y6pif4tmUUk"
      },
      "execution_count": 6,
      "outputs": []
    },
    {
      "cell_type": "code",
      "source": [
        "november_sales = [sales[i] for i in range(len(dates)) if dates[i].startswith('2021-11')]\n",
        "total_november_sales = sum(november_sales)"
      ],
      "metadata": {
        "id": "cbp8ps5lmcC1"
      },
      "execution_count": 7,
      "outputs": []
    },
    {
      "cell_type": "code",
      "source": [
        "total_november_sales"
      ],
      "metadata": {
        "colab": {
          "base_uri": "https://localhost:8080/"
        },
        "id": "Xdmg_fgamnix",
        "outputId": "0d44e310-dad5-4e52-8ed6-062c6ba90467"
      },
      "execution_count": 8,
      "outputs": [
        {
          "output_type": "execute_result",
          "data": {
            "text/plain": [
              "25098"
            ]
          },
          "metadata": {},
          "execution_count": 8
        }
      ]
    },
    {
      "cell_type": "markdown",
      "source": [
        "4.2 Найдите выручку компании в зависимости от месяца\n",
        "Для этого напишите функцию, которая на вход принимает список с датами и список с выручкой, а на выходе словарь, где ключи - это месяцы, а значения - это выручка.\n",
        "Используйте аннотирование типов."
      ],
      "metadata": {
        "id": "0o_Ljit5nPeV"
      }
    },
    {
      "cell_type": "code",
      "source": [],
      "metadata": {
        "id": "ii8pHTnBnWGd"
      },
      "execution_count": null,
      "outputs": []
    }
  ]
}