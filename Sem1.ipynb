{
  "nbformat": 4,
  "nbformat_minor": 0,
  "metadata": {
    "colab": {
      "provenance": [],
      "authorship_tag": "ABX9TyNkPPSMJxsiNupoGy2v2HhI",
      "include_colab_link": true
    },
    "kernelspec": {
      "name": "python3",
      "display_name": "Python 3"
    },
    "language_info": {
      "name": "python"
    }
  },
  "cells": [
    {
      "cell_type": "markdown",
      "metadata": {
        "id": "view-in-github",
        "colab_type": "text"
      },
      "source": [
        "<a href=\"https://colab.research.google.com/github/iuriiegorov/ClientServerGBBootCamp/blob/main/Sem1.ipynb\" target=\"_parent\"><img src=\"https://colab.research.google.com/assets/colab-badge.svg\" alt=\"Open In Colab\"/></a>"
      ]
    },
    {
      "cell_type": "markdown",
      "source": [
        "На складе лежат разные фрукты в разном количестве.\n",
        "Нужно написать функцию на Python, которая на вход принимает любое количество\n",
        "названий фруктов и их количество,\n",
        "а возвращает общее количество фруктов на складе"
      ],
      "metadata": {
        "id": "b5vWwqjtkQAz"
      }
    },
    {
      "cell_type": "code",
      "source": [
        "def count_fruits(**fruits):\n",
        "    total = 0\n",
        "    for fruit, quantity in fruits.items():\n",
        "        total += quantity\n",
        "    return total"
      ],
      "metadata": {
        "id": "quYfTKz5kZ11"
      },
      "execution_count": 1,
      "outputs": []
    },
    {
      "cell_type": "code",
      "source": [
        "count_fruits(apples=10, bananas=5, oranges=15)"
      ],
      "metadata": {
        "colab": {
          "base_uri": "https://localhost:8080/"
        },
        "id": "bD_iSVR-kppR",
        "outputId": "d81039fb-acdd-4a44-d262-35529383958c"
      },
      "execution_count": 2,
      "outputs": [
        {
          "output_type": "execute_result",
          "data": {
            "text/plain": [
              "30"
            ]
          },
          "metadata": {},
          "execution_count": 2
        }
      ]
    }
  ]
}